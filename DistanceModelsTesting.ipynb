{
 "cells": [
  {
   "cell_type": "code",
   "execution_count": 1,
   "metadata": {},
   "outputs": [],
   "source": [
    "from DistanceBasedModels import MyKNNRegressor, MyKNNClassifiers\n",
    "from sklearn.neighbors import KNeighborsRegressor, KNeighborsClassifier\n",
    "from sklearn.datasets import make_regression, make_classification\n",
    "from ModelEvaluation import ModelEvaluation\n",
    "from Metrics import *"
   ]
  },
  {
   "cell_type": "code",
   "execution_count": 2,
   "metadata": {},
   "outputs": [
    {
     "name": "stdout",
     "output_type": "stream",
     "text": [
      "                  model          MSE        R2\n",
      "0        My KNN uniform  3090.965465  0.132501\n",
      "1   Sklearn KNN uniform  3090.965465  0.132501\n",
      "2       My KNN distance  2820.851857  0.208310\n",
      "3  Sklearn KNN distance  2820.851578  0.208311\n"
     ]
    }
   ],
   "source": [
    "# алгоритм получился ужасно медленным, поэтому всего 1000 наблюдений\n",
    "def main_regression():\n",
    "    metrics=[MSE(), R2()]\n",
    "    X, y = make_regression(n_samples=1000, n_features=10, n_informative=4, noise=50, random_state=42, coef=False)\n",
    "    eval = ModelEvaluation(X, y)\n",
    "    eval.evaluate_model(MyKNNRegressor(n_neighbors=5), model_name=\"My KNN uniform\", metrics=metrics)\n",
    "    eval.evaluate_model(KNeighborsRegressor(n_neighbors=5), model_name=\"Sklearn KNN uniform\", metrics=metrics)\n",
    "    eval.evaluate_model(MyKNNRegressor(n_neighbors=20, weights='distance'), model_name=\"My KNN distance\", metrics=metrics)\n",
    "    eval.evaluate_model(KNeighborsRegressor(n_neighbors=20, weights='distance'), model_name=\"Sklearn KNN distance\", metrics=metrics)\n",
    "    print(eval.get_result())\n",
    "\n",
    "if  __name__ == \"__main__\":\n",
    "    main_regression()"
   ]
  },
  {
   "cell_type": "code",
   "execution_count": 3,
   "metadata": {},
   "outputs": [
    {
     "name": "stdout",
     "output_type": "stream",
     "text": [
      "                  model  Accuracy   ROC AUC\n",
      "0        My KNN uniform  0.790000  0.838732\n",
      "1   Sklearn KNN uniform  0.790000  0.838732\n",
      "2       My KNN distance  0.836667  0.869744\n",
      "3  Sklearn KNN distance  0.836667  0.869744\n"
     ]
    }
   ],
   "source": [
    "def main_classification():\n",
    "    metrics=[Accuracy(), ROCAUC()]\n",
    "    predict_proba = True\n",
    "    X, y = make_classification(n_samples=1000, n_features=10, n_informative=4, n_redundant=0, n_classes=2, random_state=42, flip_y=0.2)\n",
    "    eval = ModelEvaluation(X, y)\n",
    "    eval.evaluate_model(MyKNNClassifiers(n_neighbors=5), model_name=\"My KNN uniform\", metrics=metrics, predict_proba=predict_proba)\n",
    "    eval.evaluate_model(KNeighborsClassifier(n_neighbors=5), model_name=\"Sklearn KNN uniform\", metrics=metrics, predict_proba=predict_proba)\n",
    "    eval.evaluate_model(MyKNNClassifiers(n_neighbors=20, weights='distance'), model_name=\"My KNN distance\", metrics=metrics, predict_proba=predict_proba)\n",
    "    eval.evaluate_model(KNeighborsClassifier(n_neighbors=20, weights='distance'), model_name=\"Sklearn KNN distance\", metrics=metrics, predict_proba=predict_proba)\n",
    "    print(eval.get_result())\n",
    "\n",
    "if  __name__ == \"__main__\":\n",
    "    main_classification()"
   ]
  }
 ],
 "metadata": {
  "kernelspec": {
   "display_name": "DS_ENV",
   "language": "python",
   "name": "python3"
  },
  "language_info": {
   "codemirror_mode": {
    "name": "ipython",
    "version": 3
   },
   "file_extension": ".py",
   "mimetype": "text/x-python",
   "name": "python",
   "nbconvert_exporter": "python",
   "pygments_lexer": "ipython3",
   "version": "3.10.15"
  }
 },
 "nbformat": 4,
 "nbformat_minor": 2
}
