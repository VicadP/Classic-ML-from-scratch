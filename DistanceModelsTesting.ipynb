{
 "cells": [
  {
   "cell_type": "code",
   "execution_count": 1,
   "metadata": {},
   "outputs": [],
   "source": [
    "from DistanceBasedModels import MyKNNRegressor, MyKNNClassifiers\n",
    "from sklearn.neighbors import KNeighborsRegressor, KNeighborsClassifier\n",
    "from sklearn.datasets import make_regression, make_classification\n",
    "from ModelEvaluation import ModelEvaluation\n",
    "from Metrics import *"
   ]
  },
  {
   "cell_type": "code",
   "execution_count": 2,
   "metadata": {},
   "outputs": [
    {
     "name": "stdout",
     "output_type": "stream",
     "text": [
      "                  model          MSE        R2\n",
      "0        My KNN uniform  4250.647848  0.697742\n",
      "1   Sklearn KNN uniform  4250.647848  0.697742\n",
      "2       My KNN distance  3868.797345  0.724895\n",
      "3  Sklearn KNN distance  3909.937129  0.721970\n"
     ]
    }
   ],
   "source": [
    "def main_regression():\n",
    "    metrics=[MSE(), R2()]\n",
    "    X, y = make_regression(n_samples=10_000, n_features=10, n_informative=4, noise=50, random_state=42, coef=False)\n",
    "    eval = ModelEvaluation(X, y)\n",
    "    eval.evaluate_model(MyKNNRegressor(k=5), model_name=\"My KNN uniform\", metrics=metrics)\n",
    "    eval.evaluate_model(KNeighborsRegressor(n_neighbors=5), model_name=\"Sklearn KNN uniform\", metrics=metrics)\n",
    "    eval.evaluate_model(MyKNNRegressor(k=25, weights='distance'), model_name=\"My KNN distance\", metrics=metrics)\n",
    "    eval.evaluate_model(KNeighborsRegressor(n_neighbors=25, weights='distance'), model_name=\"Sklearn KNN distance\", metrics=metrics)\n",
    "    print(eval.get_result())\n",
    "\n",
    "if  __name__ == \"__main__\":\n",
    "    main_regression()"
   ]
  },
  {
   "cell_type": "code",
   "execution_count": 3,
   "metadata": {},
   "outputs": [
    {
     "name": "stdout",
     "output_type": "stream",
     "text": [
      "                  model  Accuracy   ROC AUC\n",
      "0        My KNN uniform  0.789333  0.836363\n",
      "1   Sklearn KNN uniform  0.789333  0.836363\n",
      "2       My KNN distance  0.813667  0.868846\n",
      "3  Sklearn KNN distance  0.812000  0.868316\n"
     ]
    }
   ],
   "source": [
    "def main_classification():\n",
    "    metrics=[Accuracy(), ROCAUC()]\n",
    "    predict_proba = True\n",
    "    X, y = make_classification(n_samples=10_000, n_features=10, n_informative=4, n_redundant=0, n_classes=2, random_state=42, flip_y=0.2)\n",
    "    eval = ModelEvaluation(X, y)\n",
    "    eval.evaluate_model(MyKNNClassifiers(k=5), model_name=\"My KNN uniform\", metrics=metrics, predict_proba=predict_proba)\n",
    "    eval.evaluate_model(KNeighborsClassifier(n_neighbors=5), model_name=\"Sklearn KNN uniform\", metrics=metrics, predict_proba=predict_proba)\n",
    "    eval.evaluate_model(MyKNNClassifiers(k=20, weights='distance'), model_name=\"My KNN distance\", metrics=metrics, predict_proba=predict_proba)\n",
    "    eval.evaluate_model(KNeighborsClassifier(n_neighbors=20, weights='distance'), model_name=\"Sklearn KNN distance\", metrics=metrics, predict_proba=predict_proba)\n",
    "    print(eval.get_result())\n",
    "\n",
    "if  __name__ == \"__main__\":\n",
    "    main_classification()"
   ]
  }
 ],
 "metadata": {
  "kernelspec": {
   "display_name": "DS_ENV",
   "language": "python",
   "name": "python3"
  },
  "language_info": {
   "codemirror_mode": {
    "name": "ipython",
    "version": 3
   },
   "file_extension": ".py",
   "mimetype": "text/x-python",
   "name": "python",
   "nbconvert_exporter": "python",
   "pygments_lexer": "ipython3",
   "version": "3.10.15"
  }
 },
 "nbformat": 4,
 "nbformat_minor": 2
}
