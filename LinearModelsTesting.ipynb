{
 "cells": [
  {
   "cell_type": "code",
   "execution_count": 1,
   "metadata": {},
   "outputs": [],
   "source": [
    "from LinearModels import MyLinearRegression, MyLogisticRegression\n",
    "from sklearn.linear_model import LinearRegression, LogisticRegression, Ridge, Lasso\n",
    "from LinearModels import MySVMClassifier\n",
    "from sklearn.linear_model import SGDClassifier\n",
    "from sklearn.datasets import make_regression, make_classification\n",
    "from ModelEvaluation import ModelEvaluation\n",
    "from Metrics import *"
   ]
  },
  {
   "cell_type": "code",
   "execution_count": 2,
   "metadata": {},
   "outputs": [
    {
     "name": "stderr",
     "output_type": "stream",
     "text": [
      "2024-12-03 18:43:33 PM - model training - INFO - Алгоритм сошелся. Кол-во итераций: 15\n",
      "2024-12-03 18:43:33 PM - model training - INFO - Алгоритм сошелся. Кол-во итераций: 171\n",
      "2024-12-03 18:43:33 PM - model training - INFO - Алгоритм сошелся. Кол-во итераций: 15\n"
     ]
    },
    {
     "name": "stdout",
     "output_type": "stream",
     "text": [
      "           model          MSE        R2\n",
      "0         My OLS  2462.036216  0.824928\n",
      "1    Sklearn OLS  2462.036489  0.824928\n",
      "2       My Lasso  2459.356273  0.825119\n",
      "3  Sklearn Lasso  2459.356262  0.825119\n",
      "4       My Ridge  2461.210863  0.824987\n",
      "5  Sklearn Ridge  2461.213350  0.824986\n"
     ]
    }
   ],
   "source": [
    "def main_regression():\n",
    "    metrics = [MSE(), R2()]\n",
    "    X, y = make_regression(n_samples=10_000, n_features=10, n_informative=4, noise=50, random_state=42, coef=False)\n",
    "    eval = ModelEvaluation(X, y)\n",
    "    eval.evaluate_model(MyLinearRegression(learning_rate=lambda x: 0.8 * (0.95**x)), model_name=\"My OLS\", metrics=metrics)\n",
    "    eval.evaluate_model(LinearRegression(), model_name=\"Sklearn OLS\", metrics=metrics)\n",
    "    eval.evaluate_model(MyLinearRegression(learning_rate=lambda x: 0.8 * (0.95**x), penalty=\"L1\", alpha=1), model_name=\"My Lasso\", metrics=metrics)\n",
    "    eval.evaluate_model(Lasso(alpha=1), model_name=\"Sklearn Lasso\", metrics=metrics)\n",
    "    eval.evaluate_model(MyLinearRegression(learning_rate=lambda x: 0.8 * (0.95**x), penalty=\"L2\", alpha=50), model_name=\"My Ridge\", metrics=metrics)\n",
    "    eval.evaluate_model(Ridge(alpha=50, solver=\"sag\"), model_name=\"Sklearn Ridge\", metrics=metrics)\n",
    "    print(eval.get_result())\n",
    "\n",
    "if  __name__ == \"__main__\":\n",
    "    main_regression()"
   ]
  },
  {
   "cell_type": "code",
   "execution_count": 3,
   "metadata": {},
   "outputs": [
    {
     "name": "stderr",
     "output_type": "stream",
     "text": [
      "2024-12-03 18:43:38 PM - model training - INFO - Алгоритм сошелся. Кол-во итераций: 475\n",
      "2024-12-03 18:43:39 PM - model training - INFO - Алгоритм сошелся. Кол-во итераций: 13\n"
     ]
    },
    {
     "name": "stdout",
     "output_type": "stream",
     "text": [
      "            model  Accuracy   ROC AUC\n",
      "0       My LogReg  0.680333  0.756508\n",
      "1  Sklearn LogReg  0.681000  0.756502\n",
      "2          My SVC  0.705333       NaN\n",
      "3     Sklearn SVC  0.701667       NaN\n"
     ]
    }
   ],
   "source": [
    "# регуляризацию для LogReg не реализовывал, т.к. она идентична LinReg\n",
    "# если указать динамический lr, то алгоритм не всегда сходится с sklearn, вероятно из-за solver-a\n",
    "def main_classification():\n",
    "    metrics = [Accuracy(), ROCAUC()]\n",
    "    predict_proba = True\n",
    "    X, y = make_classification(n_samples=10_000, n_features=10, n_informative=4, n_redundant=0, n_classes=2, random_state=42, flip_y=0.2)\n",
    "    eval = ModelEvaluation(X, y)\n",
    "    eval.evaluate_model(MyLogisticRegression(learning_rate=0.1), model_name=\"My LogReg\", metrics=metrics, predict_proba=predict_proba)\n",
    "    eval.evaluate_model(LogisticRegression(penalty=None, solver=\"sag\"), model_name=\"Sklearn LogReg\", metrics=metrics, predict_proba=predict_proba)\n",
    "    eval.evaluate_model(MySVMClassifier(learning_rate=0.001, alpha=1, verbose=False), model_name='My SVC', metrics=[Accuracy()])\n",
    "    eval.evaluate_model(SGDClassifier(alpha=1), model_name='Sklearn SVC', metrics=[Accuracy()])\n",
    "    print(eval.get_result())\n",
    "\n",
    "if  __name__ == \"__main__\":\n",
    "    main_classification()"
   ]
  }
 ],
 "metadata": {
  "kernelspec": {
   "display_name": "DS_ENV",
   "language": "python",
   "name": "python3"
  },
  "language_info": {
   "codemirror_mode": {
    "name": "ipython",
    "version": 3
   },
   "file_extension": ".py",
   "mimetype": "text/x-python",
   "name": "python",
   "nbconvert_exporter": "python",
   "pygments_lexer": "ipython3",
   "version": "3.10.15"
  }
 },
 "nbformat": 4,
 "nbformat_minor": 2
}
