{
 "cells": [
  {
   "cell_type": "code",
   "execution_count": 1,
   "metadata": {},
   "outputs": [],
   "source": [
    "from LinearModels import MyLinearRegression, MyLogisticRegression\n",
    "from sklearn.linear_model import LinearRegression, LogisticRegression, Ridge, Lasso\n",
    "from sklearn.datasets import make_regression, make_classification\n",
    "from ModelEvaluation import ModelEvaluation\n",
    "from Metrics import *"
   ]
  },
  {
   "cell_type": "code",
   "execution_count": 2,
   "metadata": {},
   "outputs": [
    {
     "name": "stderr",
     "output_type": "stream",
     "text": [
      "2024-11-10 18:59:24 PM - model training - INFO - Алгоритм сошелся. Кол-во итераций: 15\n"
     ]
    },
    {
     "name": "stderr",
     "output_type": "stream",
     "text": [
      "2024-11-10 18:59:25 PM - model training - INFO - Алгоритм сошелся. Кол-во итераций: 171\n",
      "2024-11-10 18:59:25 PM - model training - INFO - Алгоритм сошелся. Кол-во итераций: 15\n"
     ]
    },
    {
     "name": "stdout",
     "output_type": "stream",
     "text": [
      "           model          MSE        R2\n",
      "0         My OLS  2462.036198  0.824928\n",
      "1    Sklearn OLS  2462.036489  0.824928\n",
      "2       My Lasso  2459.356273  0.825119\n",
      "3  Sklearn Lasso  2459.356262  0.825119\n",
      "4       My Ridge  2461.210872  0.824987\n",
      "5  Sklearn Ridge  2461.221218  0.824986\n"
     ]
    }
   ],
   "source": [
    "def main_regression():\n",
    "    X, y = make_regression(n_samples=10_000, n_features=10, n_informative=4, noise=50, random_state=42, coef=False)\n",
    "    eval = ModelEvaluation(X, y, problem_type=\"regression\", metrics=[MSE(), R2()])\n",
    "    eval.evaluate_model(MyLinearRegression(learning_rate=lambda x: 0.8 * (0.95**x)), model_name=\"My OLS\")\n",
    "    eval.evaluate_model(LinearRegression(), model_name=\"Sklearn OLS\")\n",
    "    eval.evaluate_model(MyLinearRegression(learning_rate=lambda x: 0.8 * (0.95**x), penalty=\"L1\", alpha=1), model_name=\"My Lasso\")\n",
    "    eval.evaluate_model(Lasso(alpha=1), model_name=\"Sklearn Lasso\")\n",
    "    # Не всегда сходится с sklearn, бывает нужно несколько раз дернуть расчет (видимо, из-за динамической скорости обучения)\n",
    "    eval.evaluate_model(MyLinearRegression(learning_rate=lambda x: 0.8 * (0.95**x), penalty=\"L2\", alpha=50), model_name=\"My Ridge\")\n",
    "    eval.evaluate_model(Ridge(alpha=50, solver=\"sag\"), model_name=\"Sklearn Ridge\")\n",
    "    print(eval.get_result())\n",
    "\n",
    "if  __name__ == \"__main__\":\n",
    "    main_regression()"
   ]
  },
  {
   "cell_type": "code",
   "execution_count": 3,
   "metadata": {},
   "outputs": [
    {
     "name": "stderr",
     "output_type": "stream",
     "text": [
      "2024-11-10 18:59:25 PM - model training - INFO - Алгоритм сошелся. Кол-во итераций: 454\n"
     ]
    },
    {
     "name": "stdout",
     "output_type": "stream",
     "text": [
      "            model  Accuracy   ROC AUC\n",
      "0       My LogReg  0.681333  0.756492\n",
      "1  Sklearn LogReg  0.681000  0.756502\n"
     ]
    }
   ],
   "source": [
    "def main_classification():\n",
    "    X, y = make_classification(n_samples=10_000, n_features=10, n_informative=4, n_redundant=0, n_classes=2, random_state=42, flip_y=0.2)\n",
    "    eval = ModelEvaluation(X, y, problem_type=\"classification\", metrics=[Accuracy(), ROCAUC()])\n",
    "    eval.evaluate_model(MyLogisticRegression(learning_rate=0.1), model_name=\"My LogReg\")\n",
    "    eval.evaluate_model(LogisticRegression(penalty=None, solver=\"sag\"), model_name=\"Sklearn LogReg\")\n",
    "    print(eval.get_result())\n",
    "\n",
    "if  __name__ == \"__main__\":\n",
    "    main_classification()"
   ]
  }
 ],
 "metadata": {
  "kernelspec": {
   "display_name": "DS_ENV",
   "language": "python",
   "name": "python3"
  },
  "language_info": {
   "codemirror_mode": {
    "name": "ipython",
    "version": 3
   },
   "file_extension": ".py",
   "mimetype": "text/x-python",
   "name": "python",
   "nbconvert_exporter": "python",
   "pygments_lexer": "ipython3",
   "version": "3.10.15"
  }
 },
 "nbformat": 4,
 "nbformat_minor": 2
}
