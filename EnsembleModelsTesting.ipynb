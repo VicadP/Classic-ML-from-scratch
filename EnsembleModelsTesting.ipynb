{
 "cells": [
  {
   "cell_type": "code",
   "execution_count": 1,
   "metadata": {},
   "outputs": [],
   "source": [
    "from EnsembleModels import MyRandomForestClassifier, MyRandomForestRegressor\n",
    "from sklearn.ensemble import RandomForestClassifier, RandomForestRegressor\n",
    "from sklearn.datasets import make_regression, make_classification\n",
    "from ModelEvaluation import ModelEvaluation\n",
    "from Metrics import *"
   ]
  },
  {
   "cell_type": "code",
   "execution_count": 2,
   "metadata": {},
   "outputs": [
    {
     "name": "stdout",
     "output_type": "stream",
     "text": [
      "           model          MSE        R2\n",
      "0       My RFreg  2879.643933  0.795232\n",
      "1  Sklearn RFreg  2891.419579  0.794395\n"
     ]
    }
   ],
   "source": [
    "# oob оценку можно проверить отдельно, она сходится с sklearn\n",
    "def main_regression():\n",
    "    X, y = make_regression(n_samples=10_000, n_features=10, n_informative=4, noise=50, random_state=42, coef=False)\n",
    "    eval = ModelEvaluation(X, y, problem_type=\"regression\", metrics=[MSE(), R2()])\n",
    "    eval.evaluate_model(MyRandomForestRegressor(criterion=\"squared_error\"), model_name=\"My RFreg\")\n",
    "    eval.evaluate_model(RandomForestRegressor(oob_score=True, max_features=\"sqrt\"), model_name=\"Sklearn RFreg\")\n",
    "    print(eval.get_result())\n",
    "\n",
    "if  __name__ == \"__main__\":\n",
    "    main_regression()"
   ]
  },
  {
   "cell_type": "code",
   "execution_count": 3,
   "metadata": {},
   "outputs": [
    {
     "name": "stdout",
     "output_type": "stream",
     "text": [
      "           model  Accuracy   ROC AUC\n",
      "0       My RFclf  0.834333  0.879804\n",
      "1  Sklearn RFclf  0.837333  0.879317\n"
     ]
    }
   ],
   "source": [
    "def main_classification():\n",
    "    X, y = make_classification(n_samples=10_000, n_features=10, n_informative=4, n_redundant=0, n_classes=2, random_state=42, flip_y=0.2)\n",
    "    eval = ModelEvaluation(X, y, problem_type=\"classification\", metrics=[Accuracy(), ROCAUC()])\n",
    "    eval.evaluate_model(MyRandomForestClassifier(criterion=\"gini\"), model_name=\"My RFclf\")\n",
    "    eval.evaluate_model(RandomForestClassifier(oob_score=True, max_features=\"sqrt\"), model_name=\"Sklearn RFclf\")\n",
    "    print(eval.get_result())\n",
    "\n",
    "if  __name__ == \"__main__\":\n",
    "    main_classification()"
   ]
  }
 ],
 "metadata": {
  "kernelspec": {
   "display_name": "DS_ENV",
   "language": "python",
   "name": "python3"
  },
  "language_info": {
   "codemirror_mode": {
    "name": "ipython",
    "version": 3
   },
   "file_extension": ".py",
   "mimetype": "text/x-python",
   "name": "python",
   "nbconvert_exporter": "python",
   "pygments_lexer": "ipython3",
   "version": "3.10.15"
  }
 },
 "nbformat": 4,
 "nbformat_minor": 2
}
