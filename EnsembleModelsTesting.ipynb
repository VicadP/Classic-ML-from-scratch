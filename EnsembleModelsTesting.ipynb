{
 "cells": [
  {
   "cell_type": "code",
   "execution_count": 2,
   "metadata": {},
   "outputs": [],
   "source": [
    "from EnsembleModels import MyRandomForestClassifier, MyRandomForestRegressor\n",
    "from EnsembleModels import MyGradientBoostingClassifier, MyGradientBoostingRegressor\n",
    "from sklearn.ensemble import RandomForestClassifier, RandomForestRegressor\n",
    "from sklearn.ensemble import GradientBoostingClassifier, GradientBoostingRegressor\n",
    "from sklearn.datasets import make_regression, make_classification\n",
    "from ModelEvaluation import ModelEvaluation\n",
    "from Metrics import *"
   ]
  },
  {
   "cell_type": "code",
   "execution_count": 3,
   "metadata": {},
   "outputs": [
    {
     "name": "stdout",
     "output_type": "stream",
     "text": [
      "         model          MSE        R2\n",
      "0        My RF  2891.608788  0.794382\n",
      "1   Sklearn RF  2908.263845  0.793197\n",
      "2       My GBM  2584.267117  0.816236\n",
      "3  Sklearn GBM  2584.101726  0.816248\n"
     ]
    }
   ],
   "source": [
    "# oob оценку для RF можно проверить отдельно\n",
    "# поскольку в RF не реализовал random_state, иногда оценка незначительно расходится из-за разницы в сэмплировании\n",
    "def main_regression():\n",
    "    metrics = [MSE(), R2()]\n",
    "    X, y = make_regression(n_samples=10_000, n_features=10, n_informative=4, noise=50, random_state=42, coef=False)\n",
    "    eval = ModelEvaluation(X, y)\n",
    "    eval.evaluate_model(MyRandomForestRegressor(criterion=\"squared_error\"), model_name=\"My RF\", metrics=metrics)\n",
    "    eval.evaluate_model(RandomForestRegressor(oob_score=True, max_features=\"sqrt\"), model_name=\"Sklearn RF\", metrics=metrics)\n",
    "    eval.evaluate_model(MyGradientBoostingRegressor(criterion=\"squared_error\"), model_name=\"My GBM\", metrics=metrics)\n",
    "    eval.evaluate_model(GradientBoostingRegressor(criterion=\"squared_error\"), model_name=\"Sklearn GBM\", metrics=metrics)\n",
    "    print(eval.get_result())\n",
    "\n",
    "if  __name__ == \"__main__\":\n",
    "    main_regression()"
   ]
  },
  {
   "cell_type": "code",
   "execution_count": 4,
   "metadata": {},
   "outputs": [
    {
     "name": "stdout",
     "output_type": "stream",
     "text": [
      "         model  Accuracy   ROC AUC\n",
      "0        My RF  0.832667  0.878958\n",
      "1   Sklearn RF  0.836000  0.879543\n",
      "2       My GBM  0.827000  0.871876\n",
      "3  Sklearn GBM  0.827000  0.871741\n"
     ]
    }
   ],
   "source": [
    "def main_classification():\n",
    "    metrics=[Accuracy(), ROCAUC()]\n",
    "    predict_proba = True\n",
    "    X, y = make_classification(n_samples=10_000, n_features=10, n_informative=4, n_redundant=0, n_classes=2, random_state=42, flip_y=0.2)\n",
    "    eval = ModelEvaluation(X, y)\n",
    "    eval.evaluate_model(MyRandomForestClassifier(criterion=\"gini\"), model_name=\"My RF\", metrics=metrics, predict_proba=predict_proba)\n",
    "    eval.evaluate_model(RandomForestClassifier(max_features=\"sqrt\"), model_name=\"Sklearn RF\", metrics=metrics, predict_proba=predict_proba)\n",
    "    eval.evaluate_model(MyGradientBoostingClassifier(n_estimators=200, criterion=\"squared_error\"), model_name=\"My GBM\", metrics=metrics, predict_proba=predict_proba)\n",
    "    eval.evaluate_model(GradientBoostingClassifier(n_estimators=200, criterion=\"squared_error\"), model_name=\"Sklearn GBM\", metrics=metrics, predict_proba=predict_proba)\n",
    "    print(eval.get_result())\n",
    "\n",
    "if  __name__ == \"__main__\":\n",
    "    main_classification()"
   ]
  }
 ],
 "metadata": {
  "kernelspec": {
   "display_name": "DS_ENV",
   "language": "python",
   "name": "python3"
  },
  "language_info": {
   "codemirror_mode": {
    "name": "ipython",
    "version": 3
   },
   "file_extension": ".py",
   "mimetype": "text/x-python",
   "name": "python",
   "nbconvert_exporter": "python",
   "pygments_lexer": "ipython3",
   "version": "3.10.15"
  }
 },
 "nbformat": 4,
 "nbformat_minor": 2
}
