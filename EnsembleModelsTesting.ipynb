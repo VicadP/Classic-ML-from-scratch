{
 "cells": [
  {
   "cell_type": "code",
   "execution_count": 1,
   "metadata": {},
   "outputs": [],
   "source": [
    "from EnsembleModels import MyRandomForestClassifier, MyRandomForestRegressor\n",
    "from EnsembleModels import MyGradientBoostingClassifier, MyGradientBoostingRegressor\n",
    "from sklearn.ensemble import RandomForestClassifier, RandomForestRegressor\n",
    "from sklearn.ensemble import GradientBoostingClassifier, GradientBoostingRegressor\n",
    "from sklearn.datasets import make_regression, make_classification\n",
    "from ModelEvaluation import ModelEvaluation\n",
    "from Metrics import *"
   ]
  },
  {
   "cell_type": "code",
   "execution_count": 5,
   "metadata": {},
   "outputs": [
    {
     "name": "stdout",
     "output_type": "stream",
     "text": [
      "         model          MSE        R2\n",
      "0        My RF  2888.703806  0.794588\n",
      "1   Sklearn RF  2873.459950  0.795672\n",
      "2       My GBM  2584.076005  0.816250\n",
      "3  Sklearn GBM  2584.638385  0.816210\n"
     ]
    }
   ],
   "source": [
    "# oob оценку для RF можно проверить отдельно\n",
    "# поскольку в RF не реализовал random_state, иногда оценка незначительно расходится из-за разницы в сэмплировании\n",
    "def main_regression():\n",
    "    X, y = make_regression(n_samples=10_000, n_features=10, n_informative=4, noise=50, random_state=42, coef=False)\n",
    "    eval = ModelEvaluation(X, y, problem_type=\"regression\", metrics=[MSE(), R2()])\n",
    "    eval.evaluate_model(MyRandomForestRegressor(criterion=\"squared_error\"), model_name=\"My RF\")\n",
    "    eval.evaluate_model(RandomForestRegressor(oob_score=True, max_features=\"sqrt\"), model_name=\"Sklearn RF\")\n",
    "    eval.evaluate_model(MyGradientBoostingRegressor(criterion=\"squared_error\"), model_name=\"My GBM\")\n",
    "    eval.evaluate_model(GradientBoostingRegressor(n_estimators=100, learning_rate=0.1, max_depth=3, min_samples_split=2, criterion=\"squared_error\"), \n",
    "                        model_name=\"Sklearn GBM\")\n",
    "    print(eval.get_result())\n",
    "\n",
    "if  __name__ == \"__main__\":\n",
    "    main_regression()"
   ]
  },
  {
   "cell_type": "code",
   "execution_count": null,
   "metadata": {},
   "outputs": [
    {
     "name": "stdout",
     "output_type": "stream",
     "text": [
      "         model  Accuracy   ROC AUC\n",
      "0        My RF  0.837333  0.880866\n",
      "1   Sklearn RF  0.834000  0.882986\n",
      "2       My GBM  0.804333  0.864366\n",
      "3  Sklearn GBM  0.823667  0.871997\n"
     ]
    }
   ],
   "source": [
    "# не нашел в sklearn что дает прирост в 2% acc по отношению к кастомной реализации\n",
    "def main_classification():\n",
    "    X, y = make_classification(n_samples=10_000, n_features=10, n_informative=4, n_redundant=0, n_classes=2, random_state=42, flip_y=0.2)\n",
    "    eval = ModelEvaluation(X, y, problem_type=\"classification\", metrics=[Accuracy(), ROCAUC()])\n",
    "    eval.evaluate_model(MyRandomForestClassifier(criterion=\"gini\"), model_name=\"My RF\")\n",
    "    eval.evaluate_model(RandomForestClassifier(oob_score=True, max_features=\"sqrt\"), model_name=\"Sklearn RF\")\n",
    "    eval.evaluate_model(MyGradientBoostingClassifier(learning_rate=0.25, criterion=\"squared_error\"), model_name=\"My GBM\")\n",
    "    eval.evaluate_model(GradientBoostingClassifier(n_estimators=100, learning_rate=0.25, max_depth=3, min_samples_split=2, criterion=\"squared_error\"), \n",
    "                        model_name=\"Sklearn GBM\")\n",
    "    print(eval.get_result())\n",
    "\n",
    "if  __name__ == \"__main__\":\n",
    "    main_classification()"
   ]
  }
 ],
 "metadata": {
  "kernelspec": {
   "display_name": "DS_ENV",
   "language": "python",
   "name": "python3"
  },
  "language_info": {
   "codemirror_mode": {
    "name": "ipython",
    "version": 3
   },
   "file_extension": ".py",
   "mimetype": "text/x-python",
   "name": "python",
   "nbconvert_exporter": "python",
   "pygments_lexer": "ipython3",
   "version": "3.10.15"
  }
 },
 "nbformat": 4,
 "nbformat_minor": 2
}
